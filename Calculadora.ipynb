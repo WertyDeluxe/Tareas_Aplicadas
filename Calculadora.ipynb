{
  "nbformat": 4,
  "nbformat_minor": 0,
  "metadata": {
    "colab": {
      "provenance": [],
      "include_colab_link": true
    },
    "kernelspec": {
      "name": "python3",
      "display_name": "Python 3"
    },
    "language_info": {
      "name": "python"
    }
  },
  "cells": [
    {
      "cell_type": "markdown",
      "metadata": {
        "id": "view-in-github",
        "colab_type": "text"
      },
      "source": [
        "<a href=\"https://colab.research.google.com/github/WertyDeluxe/Tareas_Aplicadas/blob/main/Calculadora.ipynb\" target=\"_parent\"><img src=\"https://colab.research.google.com/assets/colab-badge.svg\" alt=\"Open In Colab\"/></a>"
      ]
    },
    {
      "cell_type": "markdown",
      "source": [
        "#CALCULADORA EJERCICIO\n",
        "\n",
        ">VALENTINA TANGARIFE RINCON\n",
        ">>SAMUEL VELA\n",
        ">>>FELIPE CUADROS\n",
        ">>>>JUAN ANDRES ARIZA"
      ],
      "metadata": {
        "id": "nb4x-T_jALOo"
      }
    },
    {
      "cell_type": "code",
      "execution_count": null,
      "metadata": {
        "id": "JGOMM7Al_Kx6",
        "colab": {
          "base_uri": "https://localhost:8080/"
        },
        "outputId": "50019e6f-c46f-461d-a5d2-5519ff3b5f04"
      },
      "outputs": [
        {
          "output_type": "stream",
          "name": "stdout",
          "text": [
            "4\n"
          ]
        }
      ],
      "source": [
        "import numpy as np\n",
        "# @title Calculadora { run: \"auto\", vertical-output: true, form-width: \"60%\" }\n",
        "Operación = \"Potencia\" # @param [\"Suma\",\"Resta\",\"Producto\",\"Cociente\",\"Seno\",\"Valor absoluto\",\"Logaritmo\",\"Potencia\",\"Exponente\",\"Raiz cuadrada\"]\n",
        "X = 2 # @param {type:\"number\"}\n",
        "Y = 2 # @param {type:\"number\"}\n",
        "\n",
        "if Operación==\"Suma\":\n",
        "    print(X+Y)\n",
        "elif Operación==\"Resta\":\n",
        "    print(X-Y)\n",
        "elif Operación==\"Producto\":\n",
        "    print(X*Y)\n",
        "elif Operación==\"Cociente\":\n",
        "    print(X/Y)\n",
        "elif Operación==\"Seno\":\n",
        "    print(np.sin(np.radians(X)))\n",
        "    print(np.sin(np.radians(Y)))\n",
        "elif Operación==\"Valor absoluto\":\n",
        "    print(abs(X))\n",
        "    print(abs(Y))\n",
        "elif Operación==\"Logaritmo\":\n",
        "    print(np.log(X))\n",
        "elif Operación==\"Potencia\":\n",
        "    print(X**Y)\n",
        "    print(Y**X)\n",
        "elif Operación==\"Exponente\":\n",
        "    print(np.exp(X))\n",
        "    print(np.exp(Y))\n",
        "elif Operación==\"Raiz cuadrada\":\n",
        "    print(np.sqrt(X))"
      ]
    },
    {
      "cell_type": "code",
      "source": [],
      "metadata": {
        "id": "aKVRoQ9OCtdX"
      },
      "execution_count": null,
      "outputs": []
    }
  ]
}