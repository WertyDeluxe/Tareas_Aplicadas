{
  "nbformat": 4,
  "nbformat_minor": 0,
  "metadata": {
    "colab": {
      "provenance": [],
      "authorship_tag": "ABX9TyM7sKK5WqMmB1YO9n58Pocj",
      "include_colab_link": true
    },
    "kernelspec": {
      "name": "python3",
      "display_name": "Python 3"
    },
    "language_info": {
      "name": "python"
    }
  },
  "cells": [
    {
      "cell_type": "markdown",
      "metadata": {
        "id": "view-in-github",
        "colab_type": "text"
      },
      "source": [
        "<a href=\"https://colab.research.google.com/github/WertyDeluxe/Tareas_Aplicadas/blob/main/17ecuaciones.ipynb\" target=\"_parent\"><img src=\"https://colab.research.google.com/assets/colab-badge.svg\" alt=\"Open In Colab\"/></a>"
      ]
    },
    {
      "cell_type": "markdown",
      "source": [
        "1. El teorema de Pitágoras: $c^2=a^2+b^2$  -Pythagoras,539 BC\n",
        "\n",
        "2. Logaritmos:  $log \\space xy = log \\space x + log \\space  y $  -John Napier, 1610\n",
        "\n",
        "3. Cálculo: $\\frac{df}{dt}= \\displaystyle \\lim_{h\\to 0}=\\frac{f(t+h )-f(t)}{h}$\n",
        " -Newton, 1668\n",
        "\n",
        "4. La ley de gravitación universal: $F = G\\frac{_{_m1 _m2}}{r^2}$ -Newton, 1687\n",
        "\n",
        "5. Raíz cuadrada de -1: $\\textit{i} ^2 = -1$ -Euler, 1750\n",
        "\n",
        "6. $V - E + F = 2$ -Euler, 1751\n",
        "\n",
        "7. $\\Phi (x)=\\frac{1}{\\sqrt{2\\mathbb{\\pi \\rho }}}\\textit{e}^\\frac{(x-\\mu)^2}{2\\rho ^2}$ -C.F. Gauss, 1810\n",
        "\n",
        "8. $\\frac{\\partial ^2u}{\\partial t^2} = c^2 \\frac{\\partial ^2u}{\\partial x^2}$ -J. d'Almbert, 1746\n",
        "\n",
        "9. $f(ω)=\\int_{\\infty}^{\\infty}f(x)e^{-2πixω}dx$ -J. Fourier, 1822\n",
        "\n",
        "10. $ \\rho (\\frac{\\partial \\textbf{v}}{\\partial \\textbf{t}} + \\textbf{v}\\cdot \\nabla \\textbf{v} ) = -\\nabla \\textbf{p}+ \\nabla\\cdot \\textbf{T} + \\textbf{f}$ -C. Navier, G. Stokes, 1845\n",
        "\n",
        "11. $\\nabla \\cdot  \\textbf{E} = 0; \\nabla \\chi \\textbf{E} = - \\frac{1}{c} \\frac{\\partial H}{\\partial t}; \\nabla \\cdot  \\textbf{H} = 0; \\nabla \\chi \\textbf{H} = \\frac{1}{c} \\frac{\\partial E}{\\partial t}$ -J.C Maxwell, 1865\n",
        "\n",
        "12. $dS\\geq 0$ -L. Boltzmann, 1874\n",
        "\n",
        "13. $E=mc^2$ -Einstein, 1905\n",
        "\n",
        "14. $\\textit{i}\\textit{h} \\frac{ \\partial}{ \\partial \\textit{t}} \\Psi = \\textit{H}\\Psi  $ -E. Schrodinger, 1927\n",
        "\n",
        "15. $H=-∑p(x) logp(x)$ -C. Shannon, 1949\n",
        "\n",
        "16. 16 $x_{t+1}= kx_t (1-x_t)$ -Robert May, 1975\n",
        "\n",
        "17. $\\frac{1}{2}\\sigma^2 S^2 \\frac{ \\partial^2V}{ \\partial S^2} + rS \\frac{ \\partial V}{ \\partial S} + \\frac{ \\partial V}{ \\partial t} - rV = 0$ -F. black, M. Scholes, 1990"
      ],
      "metadata": {
        "id": "YZY9Mwaj8ud6"
      }
    },
    {
      "cell_type": "code",
      "source": [],
      "metadata": {
        "id": "Z5_sPFiU9zkg"
      },
      "execution_count": null,
      "outputs": []
    }
  ]
}