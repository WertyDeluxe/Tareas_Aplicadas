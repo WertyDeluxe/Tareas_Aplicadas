{
  "nbformat": 4,
  "nbformat_minor": 0,
  "metadata": {
    "colab": {
      "provenance": [],
      "include_colab_link": true
    },
    "kernelspec": {
      "name": "python3",
      "display_name": "Python 3"
    },
    "language_info": {
      "name": "python"
    }
  },
  "cells": [
    {
      "cell_type": "markdown",
      "metadata": {
        "id": "view-in-github",
        "colab_type": "text"
      },
      "source": [
        "<a href=\"https://colab.research.google.com/github/WertyDeluxe/Tareas_Aplicadas/blob/main/CuadrosFelipe_codigo.ipynb\" target=\"_parent\"><img src=\"https://colab.research.google.com/assets/colab-badge.svg\" alt=\"Open In Colab\"/></a>"
      ]
    },
    {
      "cell_type": "markdown",
      "source": [
        "#Autobiografía\n",
        "Mi nombre es Felipe Cuadros Muñoz, nací en Cali el 27 de Diciembre de 2006. Desde pequeño, mostré un gran interés por la tecnología y la programación, lo que me llevó a estudiar Ingeniería de Sistemas en la Universidad ICESI.Actualmente, realizo multiples actividades ademas del estudio de mi carrera, como lo son el deporte, jugar videojuegos, compartir con mi familia o amigos y finalmente, dormir. Tengo una gata siames llamada Nucita la cual vive con mi mamá, mi hermana y yo.\n",
        "\n",
        "<img src=https://www.snexplores.org/wp-content/uploads/2021/07/070721_JC_otter-muscles_feat.jpg width=\"300\" height=\"200\" align=\"center\">\n",
        "\n",
        "##Lista de canciones\n",
        "In your eyes *-The Weeknd with Max Martin*\n",
        ">Too many nights *-Future, Don Toliver with Metro Boomin*\n",
        ">>Godzilla *-Juice WRLD with Eminem*\n",
        ">>>One dance *-Drake with Wizkid*\n",
        ">>>>Is There Someone Else? *-The Weeknd with Tommy Brown*\n",
        "\n",
        "|INGLES 6|ALGORÍTMOS Y PROGRAMACIÓN|MATEMATICAS APLICADAS|\n",
        "|--------|-------------------------|---------------------|\n",
        "|Me gusta|\n",
        "|"
      ],
      "metadata": {
        "id": "yG9BGWY9-9Ao"
      }
    },
    {
      "cell_type": "code",
      "source": [],
      "metadata": {
        "id": "eQfF4THDERze"
      },
      "execution_count": null,
      "outputs": []
    }
  ]
}