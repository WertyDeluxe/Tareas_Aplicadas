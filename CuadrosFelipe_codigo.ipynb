{
  "nbformat": 4,
  "nbformat_minor": 0,
  "metadata": {
    "colab": {
      "provenance": [],
      "include_colab_link": true
    },
    "kernelspec": {
      "name": "python3",
      "display_name": "Python 3"
    },
    "language_info": {
      "name": "python"
    }
  },
  "cells": [
    {
      "cell_type": "markdown",
      "metadata": {
        "id": "view-in-github",
        "colab_type": "text"
      },
      "source": [
        "<a href=\"https://colab.research.google.com/github/WertyDeluxe/Tareas_Aplicadas/blob/main/CuadrosFelipe_codigo.ipynb\" target=\"_parent\"><img src=\"https://colab.research.google.com/assets/colab-badge.svg\" alt=\"Open In Colab\"/></a>"
      ]
    },
    {
      "cell_type": "markdown",
      "source": [
        "#Autobiografía\n",
        "Mi nombre es Felipe Cuadros Muñoz, nací en Cali el 27 de Diciembre de 2006. Desde pequeño, mostré un gran interés por la tecnología y la programación, lo que me llevó a estudiar Ingeniería de Sistemas en la Universidad ICESI.Actualmente, realizo multiples actividades ademas del estudio de mi carrera, como lo son el deporte, jugar videojuegos, compartir con mi familia o amigos y finalmente, dormir. Tengo una gata siames llamada Nucita la cual vive con mi mamá, mi hermana y yo.\n",
        "\n",
        "<img src=https://www.snexplores.org/wp-content/uploads/2021/07/070721_JC_otter-muscles_feat.jpg width=\"600\" height=\"400\" align=\"center\">\n",
        "\n",
        "##Lista de canciones\n",
        "> <font color=\"00FFFF\">1.</font> **In Your Eyes** *-The Weeknd with Max Martin*\n",
        ">> <font color=\"00FFFF\">2.</font> **Too Many Nights** *-Future, Don Toliver with Metro Boomin*\n",
        ">>> <font color=\"00FFFF\">3.</font> **Godzilla** *-Juice WRLD with Eminem*\n",
        ">>>> <font color=\"00FFFF\">4.</font> **One Dance** *-Drake with Wizkid*\n",
        ">>>>> <font color=\"00FFFF\">5.</font> **Is There Someone Else?** *-The Weeknd with Tommy Brown*\n",
        "\n",
        "\n",
        "\n",
        "|INGLES 6|ALGORÍTMOS Y PROGRAMACIÓN|MATEMATICAS APLICADAS|\n",
        "|--------|-------------------------|---------------------|\n",
        "|<font color=\"7FFF00\">Me gusta el idioma</font>|Es una introducción al lenguaje Java, cosa que me gusta|Me gustan las matemáticas|\n",
        "|No se me dificulta|Estoy con mis facuamigos|<font color=\"FF8C00\">Siempre me lo tomo como un reto y eso divierte</font>|\n",
        "\n",
        "\n"
      ],
      "metadata": {
        "id": "yG9BGWY9-9Ao"
      }
    }
  ]
}