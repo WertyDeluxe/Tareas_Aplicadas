{
  "nbformat": 4,
  "nbformat_minor": 0,
  "metadata": {
    "colab": {
      "provenance": [],
      "include_colab_link": true
    },
    "kernelspec": {
      "name": "python3",
      "display_name": "Python 3"
    },
    "language_info": {
      "name": "python"
    }
  },
  "cells": [
    {
      "cell_type": "markdown",
      "metadata": {
        "id": "view-in-github",
        "colab_type": "text"
      },
      "source": [
        "<a href=\"https://colab.research.google.com/github/WertyDeluxe/Tareas_Aplicadas/blob/main/Clase5aplicadas.ipynb\" target=\"_parent\"><img src=\"https://colab.research.google.com/assets/colab-badge.svg\" alt=\"Open In Colab\"/></a>"
      ]
    },
    {
      "cell_type": "markdown",
      "source": [
        "TALLER #2 MATEMATICAS APLICADAS\n",
        ">VALENTINA TANGARIFE RINCON\n",
        ">>SAMUEL VELA\n",
        ">>>FELIPE CUADROS\n",
        ">>>>JUAN ANDRES ARIZA\n"
      ],
      "metadata": {
        "id": "afw600RgI2Fj"
      }
    },
    {
      "cell_type": "markdown",
      "source": [
        " # 1. Filtrar números primos:\n",
        "Escribe una función que reciba una lista de números y devuelva una nueva lista solo\n",
        "con los números primos."
      ],
      "metadata": {
        "id": "Pi1SF2Q4JF2U"
      }
    },
    {
      "cell_type": "code",
      "source": [
        "#Librerias\n",
        "import numpy as np\n",
        "import random as random\n",
        "import math as mt"
      ],
      "metadata": {
        "id": "qB5qrzQNRaVY"
      },
      "execution_count": null,
      "outputs": []
    },
    {
      "cell_type": "code",
      "execution_count": null,
      "metadata": {
        "id": "DGf-mHSNGI4L",
        "colab": {
          "base_uri": "https://localhost:8080/"
        },
        "outputId": "e377be51-fa89-4266-ac87-e4207689778a"
      },
      "outputs": [
        {
          "output_type": "stream",
          "name": "stdout",
          "text": [
            "Números primos en la lista: [2, 3, 5, 7, 11, 13, 17, 19, 23, 29]\n"
          ]
        }
      ],
      "source": [
        "#Valentina\n",
        "def es_primo(numero):\n",
        "    if numero < 2:          # #Un numero primo es aquel que solo tiene 2 divisores, *1 y *el mismo, asi que primero verificamos que numero nuestro sea mayor a 2, ya que los menores no son primos y en este caso buscamos los primos\n",
        "        return False\n",
        "\n",
        "    for i in range(2, int(mt.sqrt(numero))+1):   # Este for recorrera los numeros desde el 2 hasta la raiz cuadrada del numero que estamos buscando\n",
        "        if numero % i == 0:\n",
        "          return False  # Si encuentra un divisor, no es primo\n",
        "\n",
        "    return True  # Si no encontró divisores, es primo\n",
        "\n",
        "def filtrar_primos(lista):  #Esta funcion filtra solo los primos de la lista\n",
        "    return [num for num in lista if es_primo(num)]\n",
        "\n",
        "\n",
        "numeros = [1, 2, 3, 4, 5, 7, 8, 9, 10, 11, 12, 13, 14, 15, 16, 17, 18, 19, 20, 21, 22, 23, 24, 25, 26, 27, 28, 29, 30]\n",
        "primos = filtrar_primos(numeros)\n",
        "\n",
        "print(\"Números primos en la lista:\", primos)\n"
      ]
    },
    {
      "cell_type": "markdown",
      "source": [
        "2. Escribe una función que reciba dos listas y devuelva una nueva lista con los elementos comunes entre ambas."
      ],
      "metadata": {
        "id": "22pThHB1Ns-0"
      }
    },
    {
      "cell_type": "code",
      "source": [
        "def elementos_comunes(lista1, lista2):\n",
        "    # Convertir las listas a arrays de numpy\n",
        "    array1 = np.array(lista1)\n",
        "    array2 = np.array(lista2)\n",
        "\n",
        "    # Usar numpy para encontrar los elementos comunes\n",
        "    comunes = np.intersect1d(array1, array2)\n",
        "\n",
        "    # Convertir el resultado a una lista\n",
        "    return comunes.tolist()\n",
        "\n",
        "# Pedir al usuario que ingrese las listas\n",
        "print(\"Ingresa los elementos de la primera lista, separados por espacios:\")\n",
        "entrada1 = input().split()  # Leer la entrada y dividirla en una lista\n",
        "lista1 = [int(x) for x in entrada1]  # Convertir los elementos a enteros\n",
        "\n",
        "print(\"Ingresa los elementos de la segunda lista, separados por espacios:\")\n",
        "entrada2 = input().split()  # Leer la entrada y dividirla en una lista\n",
        "lista2 = [int(x) for x in entrada2]  # Convertir los elementos a enteros\n",
        "\n",
        "# Encontrar los elementos comunes\n",
        "resultado = elementos_comunes(lista1, lista2)\n",
        "\n",
        "# Mostrar el resultado\n",
        "print(\"Elementos comunes:\", resultado)"
      ],
      "metadata": {
        "id": "jOt9FBCXGdK6"
      },
      "execution_count": null,
      "outputs": []
    },
    {
      "cell_type": "markdown",
      "source": [
        "3. Crea una función que reciba una lista de números y la convierta en una matriz cuadrada. Si la cantidad de elementos no permite formar una matriz cuadrada,devuelve un mensaje de error."
      ],
      "metadata": {
        "id": "2QHauvZ5Nye3"
      }
    },
    {
      "cell_type": "code",
      "source": [
        "def Matrices (Filas,Columnas):\n",
        "\n",
        "  #Creamos una matriz vacia con ceros (np.zero)\n",
        "    matriz = np.zeros((Filas, Columnas), dtype=int)\n",
        "    if Filas == Columnas:\n",
        "\n",
        "#Se da la opcion de generar los datos manual o random(para probar la matriz)\n",
        "        test = int(input(\"Ingrese {1} si va a ingresar los datos manual , {2} si los generamos random \"))\n",
        "\n",
        "#Ingresando los datos manualmente\n",
        "        if test ==1:\n",
        "            for i in range (Filas): #Posicion filas (recorre las filas desde 1 hasta la cantidad maxima de filas)\n",
        "                for j in range (Columnas):#Posicion columnas (recorre las filas desde 1 hasta la cantidad maxima de columnas)\n",
        "                    matriz[i,j]=int(input(f\"Ingrese el valor para la posicion ({i},{j}): \"))#con esto , la matriz cambiara valor por valor desde matriz[0,0](para eso i y j)\n",
        "\n",
        "        elif test == 2:\n",
        "          #Mismo funcionamiento\n",
        "            for i in range (Filas):\n",
        "                for j in range (Columnas):\n",
        "                  #aqui en lugar de registrar manualmente dato por dato , el programa se encargara de rellenarlos automaticamente (mejor para testear)\n",
        "                    matriz[i,j]=random.randint(1,100)\n",
        "\n",
        "\n",
        "        print(matriz)\n",
        "\n",
        "    else:\n",
        "        print(\"No es una matriz cuadrada\")"
      ],
      "metadata": {
        "id": "UoHCwtwbL56K"
      },
      "execution_count": null,
      "outputs": []
    },
    {
      "cell_type": "markdown",
      "source": [
        "4. Escribe una función que reciba una lista de números y devuelva la media, mediana y moda. Si hay más de una moda, devuelve todas."
      ],
      "metadata": {
        "id": "tWwiIzDFOAWq"
      }
    },
    {
      "cell_type": "code",
      "source": [
        "from statistics import median, multimode  # Se extraen funciones de estadísticas\n",
        "\n",
        "numeros = []\n",
        "\n",
        "print(\"Ingrese los números para calcular la media, mediana y moda. Para detener, escriba Stop.\")\n",
        "\n",
        "# Ingreso de datos en bucle para cada número\n",
        "while True:\n",
        "    numero = input(\"\\nNúmero: \")\n",
        "    if numero.lower() == \"stop\":  # Permite \"Stop\" en mayúsculas o minúsculas\n",
        "        break\n",
        "    try:\n",
        "        numeros.append(float(numero))  # 🔹 Convierte la entrada a número antes de agregarla\n",
        "    except ValueError:\n",
        "        print(\"Ingresa un número válido.\")  # Evita que el programa falle si el usuario pone texto\n",
        "\n",
        "# Función para calcular la media\n",
        "def media(numeros):\n",
        "    return sum(numeros) / len(numeros)\n",
        "\n",
        "# Función para calcular la mediana\n",
        "def mediana(numeros):\n",
        "    return median(numeros)\n",
        "\n",
        "# Función para calcular la moda\n",
        "def moda(numeros):\n",
        "    return multimode(numeros)\n",
        "\n",
        "# Imprimir resultados\n",
        "print(\"\\nResultados:\")\n",
        "print(\"La media de los números ingresados es:\", media(numeros))\n",
        "print(\"La mediana de los números ingresados es:\", mediana_valor(numeros))\n",
        "print(\"La moda de los números ingresados es:\", moda(numeros))\n"
      ],
      "metadata": {
        "colab": {
          "base_uri": "https://localhost:8080/"
        },
        "id": "jLhctjw_thC5",
        "outputId": "688ebcfa-4c83-4c0e-d43c-92cc3bf1d97f"
      },
      "execution_count": null,
      "outputs": [
        {
          "output_type": "stream",
          "name": "stdout",
          "text": [
            "Ingrese los números para calcular la media, mediana y moda. Para detener, escriba Stop.\n",
            "\n",
            "Número: 4\n",
            "\n",
            "Número: 2\n",
            "\n",
            "Número: 6\n",
            "\n",
            "Número: 4\n",
            "\n",
            "Número: 6\n",
            "\n",
            "Número: 3\n",
            "\n",
            "Número: \n",
            "⚠️ Ingresa un número válido.\n",
            "\n",
            "Número: 4\n",
            "\n",
            "Número: 3\n",
            "\n",
            "Número: 6\n",
            "\n",
            "Número: stop\n",
            "\n",
            "Resultados:\n",
            "La media de los números ingresados es: 4.222222222222222\n",
            "La mediana de los números ingresados es: 4.0\n",
            "La moda de los números ingresados es: [4.0, 6.0]\n"
          ]
        }
      ]
    },
    {
      "cell_type": "markdown",
      "source": [
        "5. Escribe una función que reciba una lista de precios de productos y una lista de cantidades compradas. La función debe calcular el total a pagar, aplicando un descuento del 10% si el total supera $100.\n"
      ],
      "metadata": {
        "id": "A1DWwY0xOFjK"
      }
    },
    {
      "cell_type": "code",
      "source": [
        "#Valentina\n",
        "def calcular_total(precios, cantidades):\n",
        "    total = 0\n",
        "    for i in range(len(precios)): #Recorreremmos la lista usando la funcion len para que nuestra solucion se ejecute exactamente la cantidad de veces necesaria, sin importar cuántos productos hayan en la lista\n",
        "        total = total + precios[i] * cantidades[i]\n",
        "\n",
        "    if total > 100: #Si es total super los 100, se aplicara un descuento del 10%\n",
        "        total = total * 0.9\n",
        "\n",
        "    return total\n",
        "\n",
        "precios = [10, 20, 30, 40, 50, 60, 70, 80]\n",
        "cantidades = [2, 1, 3, 5, 1, 6, 8, 2]\n",
        "total_a_pagar = calcular_total(precios, cantidades)\n",
        "print(\"Total a pagar: $\", total_a_pagar)\n",
        "\n"
      ],
      "metadata": {
        "id": "pc64g0TwL5hL",
        "colab": {
          "base_uri": "https://localhost:8080/"
        },
        "outputId": "bd6f01ba-f50e-46d1-9735-57031614704e"
      },
      "execution_count": null,
      "outputs": [
        {
          "output_type": "stream",
          "name": "stdout",
          "text": [
            "Total a pagar: $ 1314.0\n"
          ]
        }
      ]
    },
    {
      "cell_type": "markdown",
      "source": [
        "# 6. Control de inventario:\n",
        " Crea una función que reciba una lista de productos en inventario y una lista de productos vendidos. La función debe devolver una lista con los productos que quedan en inventario, eliminando los vendidos.\n"
      ],
      "metadata": {
        "id": "59As2ARXOMBX"
      }
    },
    {
      "cell_type": "code",
      "source": [
        "def productos_en_inventario(inventario, vendidos):\n",
        "    # Convertir las listas a arrays de numpy\n",
        "    inventario = np.array(inventario)\n",
        "    vendidos = np.array(vendidos)\n",
        "\n",
        "    # Usar numpy para eliminar los productos vendidos\n",
        "    en_inventario = np.setdiff1d(inventario, vendidos)\n",
        "\n",
        "    # Convertir el resultado a una lista\n",
        "    return en_inventario.tolist()\n",
        "\n",
        "# Pedir al usuario que ingrese los productos en inventario y vendidos\n",
        "inventario = input(\"Ingresa los productos en inventario, separados por espacios: \").split()\n",
        "vendidos = input(\"Ingresa los productos vendidos, separados por espacios: \").split()\n",
        "\n",
        "# Obtener los productos que quedan en inventario\n",
        "resultado = productos_en_inventario(inventario, vendidos)\n",
        "\n",
        "# Mostrar el resultado\n",
        "print(f\"Productos que quedan en inventario: {resultado}\")"
      ],
      "metadata": {
        "id": "Sfl6H6cTOQPT"
      },
      "execution_count": null,
      "outputs": []
    },
    {
      "cell_type": "markdown",
      "source": [
        "#7. Registro de temperaturas:\n",
        "Escribe una función que reciba una lista de temperaturas diarias (en grados Celsius) y devuelva cuántos días la temperatura estuvo por encima de 30°C, cuántos entre 20°C y 30°C, y cuántos por debajo de 20°"
      ],
      "metadata": {
        "id": "kEcJTh4vOQy5"
      }
    },
    {
      "cell_type": "code",
      "source": [
        "\n",
        "def Matrices (Filas,Columnas):\n",
        "\n",
        "  #Creamos una matriz vacia con ceros (np.zero)\n",
        "    matriz = np.zeros((Filas, Columnas), dtype=int)\n",
        "    if Filas == Columnas:\n",
        "\n",
        "#Se da la opcion de generar los datos manual o random(para probar la matriz)\n",
        "        test = int(input(\"Ingrese {1} si va a ingresar los datos manual , {2} si los generamos random \"))\n",
        "\n",
        "#Ingresando los datos manualmente\n",
        "        if test ==1:\n",
        "            for i in range (Filas): #Posicion filas (recorre las filas desde 1 hasta la cantidad maxima de filas)\n",
        "                for j in range (Columnas):#Posicion columnas (recorre las filas desde 1 hasta la cantidad maxima de columnas)\n",
        "                    matriz[i,j]=int(input(f\"Ingrese el valor para la posicion ({i},{j}): \"))#con esto , la matriz cambiara valor por valor desde matriz[0,0](para eso i y j)\n",
        "\n",
        "        elif test == 2:\n",
        "          #Mismo funcionamiento\n",
        "            for i in range (Filas):\n",
        "                for j in range (Columnas):\n",
        "                  #aqui en lugar de registrar manualmente dato por dato , el programa se encargara de rellenarlos automaticamente (mejor para testear)\n",
        "                    matriz[i,j]=random.randint(1,100)\n",
        "\n",
        "\n",
        "        print(matriz)\n",
        "\n",
        "    else:\n",
        "        print(\"No es una matriz cuadrada\")\n",
        "#Se llama la funcion\n",
        "\n",
        "Filas = int(input(\"Ingrese el numero de filas: \"))\n",
        "Columnas = int(input(\"Ingrese el numero de columnas: \"))\n",
        "\n",
        "Matrices(Filas,Columnas)"
      ],
      "metadata": {
        "id": "uihTdX72RktH"
      },
      "execution_count": null,
      "outputs": []
    },
    {
      "cell_type": "markdown",
      "source": [
        "#8. Cálculo de calorías consumidas:\n",
        "Crea una función que reciba una lista de alimentos consumidos y una lista de calorías correspondientes a cada alimento. La función debe calcular el total de calorías consumidas y devolver un mensaje si se superan las 2000 calorías diarias recomendadas."
      ],
      "metadata": {
        "id": "pF8vz8gTOY_u"
      }
    },
    {
      "cell_type": "code",
      "source": [
        "def calcular_calorias(alimentos, calorias): #Esta es la funcion con la que calcularemos las caloria\n",
        "    total_calorias = sum(calorias)\n",
        "    print(f\"\\nHas consumido un total de {total_calorias} calorías.\")\n",
        "\n",
        "    if total_calorias > 2000:\n",
        "        print(\"Has superado la cantidad de 2000 calorías diarias.\")\n",
        "\n",
        "# Datos de entrada\n",
        "alimentos = []\n",
        "calorias = []\n",
        "\n",
        "print(\"Ingrese los alimentos consumidos y sus calorías. Para detener, escriba 0.\")\n",
        "\n",
        "# Ingreso de datos en bucles separados para cada alimento y sus calorías\n",
        "while True:\n",
        "    alimento = input(\"\\nAlimento: \")\n",
        "    if alimento == \"0\":\n",
        "        break  # Se detiene si el usuario ingresa 0\n",
        "    alimentos.append(alimento)\n",
        "\n",
        "\n",
        "    while True:\n",
        "        caloria = input(f\"Calorías de {alimento}: \")\n",
        "        if caloria > \"0\":\n",
        "            calorias.append(int(caloria))\n",
        "            break\n",
        "\n",
        "# Llamada a la función y resultado\n",
        "calcular_calorias(alimentos, calorias)\n"
      ],
      "metadata": {
        "id": "4gnLQA_eOfec",
        "colab": {
          "base_uri": "https://localhost:8080/"
        },
        "outputId": "bff000dc-e44e-416e-f3bc-3764348a85f5"
      },
      "execution_count": null,
      "outputs": [
        {
          "output_type": "stream",
          "name": "stdout",
          "text": [
            "Ingrese los alimentos consumidos y sus calorías. Para detener, escriba '0'.\n",
            "\n",
            "Alimento: Frijoles\n",
            "Calorías de Frijoles: 110\n",
            "\n",
            "Alimento: Arroz\n",
            "Calorías de Arroz: 130\n",
            "\n",
            "Alimento: Carne molida\n",
            "Calorías de Carne molida: 187\n",
            "\n",
            "Alimento: Chicharrón\n",
            "Calorías de Chicharrón: 500\n",
            "\n",
            "Alimento: Huevo frito\n",
            "Calorías de Huevo frito: 196\n",
            "\n",
            "Alimento: Chorizo\n",
            "Calorías de Chorizo: 313\n",
            "\n",
            "Alimento: Arepa\n",
            "Calorías de Arepa: 300\n",
            "\n",
            "Alimento: Platano maduro\n",
            "Calorías de Platano maduro: 180\n",
            "\n",
            "Alimento: Aguacate\n",
            "Calorías de Aguacate: 160\n",
            "\n",
            "Alimento: 0\n",
            "\n",
            "Has consumido un total de 2076 calorías.\n",
            "Has superado la cantidad de 2000 calorías diarias.\n"
          ]
        }
      ]
    },
    {
      "cell_type": "markdown",
      "source": [
        "#9. Promedio de ventas mensuales:\n",
        "Escribe una función que reciba una lista de ventas\n",
        "mensuales (12 valores) y calcule el promedio de ventas. Además, debe indicar cuántos\n",
        "meses estuvieron por encima del promedio.\n"
      ],
      "metadata": {
        "id": "rCChkVxKO0pZ"
      }
    },
    {
      "cell_type": "code",
      "source": [
        "#Valentina\n",
        "def calcular_promedio_ventas(ventas_mensuales):\n",
        "    total = 0\n",
        "    for i in range(12):\n",
        "        total += ventas_mensuales[i]\n",
        "\n",
        "    promedio_ventas = total / 12   # Calculamos el promedio\n",
        "\n",
        "    meses_sobre_promedio = 0  # Contaremos cuántos meses superan el promedio de ventas\n",
        "    for i in range(12):\n",
        "        if ventas_mensuales[i] > promedio_ventas:\n",
        "            meses_sobre_promedio += 1\n",
        "\n",
        "    return promedio_ventas, meses_sobre_promedio\n",
        "\n",
        "ventas = [1200, 1500, 1000, 900, 1800, 2000, 1700, 1600, 1400, 1900, 2100, 1750]\n",
        "promedio, sobre_promedio = calcular_promedio_ventas(ventas)\n",
        "\n",
        "print(\"Promedio de ventas:\", promedio)\n",
        "print(\"Meses por encima del promedio:\", sobre_promedio)\n",
        "\n"
      ],
      "metadata": {
        "id": "_R32i_TnO1PW",
        "colab": {
          "base_uri": "https://localhost:8080/"
        },
        "outputId": "9eab54ff-be7d-428b-9244-83c9fd8d110c"
      },
      "execution_count": null,
      "outputs": [
        {
          "output_type": "stream",
          "name": "stdout",
          "text": [
            "Promedio de ventas: 1570.8333333333333\n",
            "Meses por encima del promedio: 7\n"
          ]
        }
      ]
    },
    {
      "cell_type": "markdown",
      "source": [
        "#10. Sistema de descuentos en una tienda:\n",
        "Crea una función que reciba el total de una compra y aplique un descuento según el monto:\n",
        ">• 5% si el total está entre 50 y 100.\n",
        ">>• 10% si el total es mayor a 100 y menor a 200.\n",
        ">>>• 15% si el total es mayor o igual a $200.\n",
        "\n",
        "La función debe devolver el total con el descuento aplicado.\n"
      ],
      "metadata": {
        "id": "1HUbVREeO2U7"
      }
    },
    {
      "cell_type": "code",
      "source": [
        "def aplicar_descuento(total):\n",
        "    # Aplicar descuentos según el monto\n",
        "    if 50 <= total < 100:\n",
        "        descuento = 0.05  # 5% de descuento\n",
        "    elif 100 <= total < 200:\n",
        "        descuento = 0.10  # 10% de descuento\n",
        "    elif total >= 200:\n",
        "        descuento = 0.15  # 15% de descuento\n",
        "    else:\n",
        "        descuento = 0  # No hay descuento\n",
        "\n",
        "    # Calcular el total con descuento\n",
        "    total_con_descuento = total * (1 - descuento)\n",
        "    return total_con_descuento\n",
        "\n",
        "# Pedir al usuario que ingrese el total de la compra\n",
        "total_compra = float(input(\"Ingresa el total de la compra: \"))\n",
        "\n",
        "# Aplicar el descuento\n",
        "total_final = aplicar_descuento(total_compra)\n",
        "\n",
        "# Mostrar el resultado\n",
        "print(f\"Total con descuento aplicado: ${total_final:.2f}\")"
      ],
      "metadata": {
        "id": "S2fySY7rO-Z3"
      },
      "execution_count": null,
      "outputs": []
    },
    {
      "cell_type": "markdown",
      "source": [
        "#11. Registro de pacientes:\n",
        "Escribe una función que reciba una lista de nombres de\n",
        "pacientes y una lista de edades. La función debe devolver una lista de pacientes\n",
        "mayores de 60 años, indicando que requieren atención prioritaria.\n"
      ],
      "metadata": {
        "id": "gQTnGSmRPIWw"
      }
    },
    {
      "cell_type": "code",
      "source": [
        "def pacientes_prioritarios():\n",
        "    # Pedir la cantidad de pacientes\n",
        "    n = int(input(\"Ingrese la cantidad de pacientes: \"))\n",
        "\n",
        "    nombres = []\n",
        "    edades = []\n",
        "\n",
        "    # Capturar datos de los pacientes\n",
        "    for i in range(n):\n",
        "        nombre = input(f\"Ingrese el nombre del paciente {i+1}: \")\n",
        "        edad = int(input(f\"Ingrese la edad de {nombre}: \"))\n",
        "        nombres.append(nombre)\n",
        "        edades.append(edad)\n",
        "\n",
        "    # Filtrar pacientes mayores de 60 años\n",
        "    prioritarios = [f\"{nombres[i]} (Edad: {edades[i]}) - Atención Prioritaria\"\n",
        "                    for i in range(n) if edades[i] > 60]\n",
        "\n",
        "    return prioritarios\n",
        "\n",
        "# Ejemplo de uso\n",
        "resultado = pacientes_prioritarios()\n",
        "\n",
        "# Mostrar pacientes con atención prioritaria\n",
        "print(\"\\nPacientes con Atención Prioritaria:\")\n",
        "for paciente in resultado:\n",
        "    print(paciente)\n"
      ],
      "metadata": {
        "id": "aj_bUhmrPOUB",
        "colab": {
          "base_uri": "https://localhost:8080/"
        },
        "outputId": "29d6589f-ce95-48b0-d205-313cf4794b51"
      },
      "execution_count": null,
      "outputs": [
        {
          "output_type": "stream",
          "name": "stdout",
          "text": [
            "Ingrese la cantidad de pacientes: 3\n",
            "Ingrese el nombre del paciente 1: p\n",
            "Ingrese la edad de p: 89\n",
            "Ingrese el nombre del paciente 2: pablo\n",
            "Ingrese la edad de pablo: 40\n",
            "Ingrese el nombre del paciente 3: juan\n",
            "Ingrese la edad de juan: 100\n",
            "\n",
            "Pacientes con Atención Prioritaria:\n",
            "p (Edad: 89) - Atención Prioritaria\n",
            "juan (Edad: 100) - Atención Prioritaria\n"
          ]
        }
      ]
    },
    {
      "cell_type": "markdown",
      "source": [
        "#12. Cálculo de gastos mensuales:\n",
        "Crea una función que reciba una lista de gastos\n",
        "mensuales (alquiler, comida, transporte, etc.) y calcule el total de gastos. Además,\n",
        "debe indicar cuál fue el gasto más alto y en qué categoría se realizó.\n"
      ],
      "metadata": {
        "id": "GRZDhAuiPOvB"
      }
    },
    {
      "cell_type": "code",
      "source": [
        "def gastos_mensuales(): #Función para almacenar los datos de alquiler, comida, treansporte y servicios\n",
        "    alquiler=int(input(\"Ingrese el gasto en alquiler: \"))\n",
        "    comida=int(input(\"Ingrese el gasto en comida: \"))\n",
        "    transporte=int(input(\"Ingrese el gasto en transporte: \"))\n",
        "    servicios=int(input(\"Ingrese el gasto en servicios: \"))\n",
        "\n",
        "#Se realiza la sumatoria de todos los datos anteriormente suministrados por el usuariuo\n",
        "    total_gastos = alquiler + comida + transporte + servicios\n",
        "    print(f\"\\nEl total de gastos mensuales es de ${total_gastos}.\")\n",
        "    if alquiler > comida and alquiler > transporte and alquiler > servicios: # Aca se comparan todos los datos suiministrados para determinar cual es el mayor gasto, finalmente se imprime cual fue el ghasto más alto\n",
        "        print(\"El gasto más alto fue en alquiler.\")\n",
        "    elif comida > alquiler and comida > transporte and  comida > servicios:\n",
        "        print(\"El gasto más alto fue en comida.\")\n",
        "    else:\n",
        "        print(\"El gasto más alto fue en transporte.\")\n",
        "gastos_mensuales()"
      ],
      "metadata": {
        "id": "u3-iGCGJPQJG"
      },
      "execution_count": null,
      "outputs": []
    },
    {
      "cell_type": "markdown",
      "source": [
        "# 13. Control de asistencia a eventos:\n",
        "Escribe una función que reciba una lista de nombres\n",
        "de personas registradas para un evento y una lista de nombres de personas que\n",
        "asistieron. La función debe devolver una lista de personas que no asistieron."
      ],
      "metadata": {
        "id": "VQBa03aPPQdJ"
      }
    },
    {
      "cell_type": "code",
      "source": [
        "#Valentina\n",
        "def obtener_no_asistentes(registrados, asistieron):\n",
        "    no_asistieron = []\n",
        "    for persona in registrados: #este bucle recorre la lista de personas registradas\n",
        "        if persona not in asistieron:\n",
        "            no_asistieron.append(persona)\n",
        "    return no_asistieron\n",
        "\n",
        "# Ejemplo de uso:\n",
        "registrados = [\"Ana\", \"Juan\", \"Pedro\", \"María\", \"Luis\"]\n",
        "asistieron = [\"Juan\", \"María\", \"Luis\"]\n",
        "\n",
        "no_asistieron = obtener_no_asistentes(registrados, asistieron)\n",
        "print(\"Personas que no asistieron:\", no_asistieron)\n"
      ],
      "metadata": {
        "id": "fx-q4pCvPQ6I",
        "colab": {
          "base_uri": "https://localhost:8080/"
        },
        "outputId": "2f718653-6d67-48f8-8237-d5962ea4f77d"
      },
      "execution_count": null,
      "outputs": [
        {
          "output_type": "stream",
          "name": "stdout",
          "text": [
            "Personas que no asistieron: ['Ana', 'Pedro']\n"
          ]
        }
      ]
    },
    {
      "cell_type": "code",
      "source": [
        "#ejemplo para entender el uso del not en este codigo:\n",
        "asistieron = [\"Juan\", \"María\", \"Luis\"]\n",
        "print(\"Pedro\" in asistieron)   # False, porque \"Pedro\" no está en la lista\n",
        "print(not (\"Pedro\" in asistieron))  # True, porque estamos negando False\n"
      ],
      "metadata": {
        "colab": {
          "base_uri": "https://localhost:8080/"
        },
        "id": "fbIFBpeYCI2r",
        "outputId": "610ba9f2-9e51-44a4-9012-09b40095a31a"
      },
      "execution_count": null,
      "outputs": [
        {
          "output_type": "stream",
          "name": "stdout",
          "text": [
            "False\n",
            "True\n"
          ]
        }
      ]
    },
    {
      "cell_type": "markdown",
      "source": [
        "#14. Recomendación de ejercicio diario:\n",
        "Crea una función que reciba la cantidad de minutos de ejercicio realizados en una semana (7 días) y devuelva un mensaje personalizado:\n",
        ">• \"Excelente, estás en forma\" si el promedio diario es mayor a 60 minutos.\n",
        ">>• \"Buen trabajo, pero puedes mejorar\" si el promedio está entre 30 y 60 minutos.\n",
        ">>>• \"Debes hacer más ejercicio\" si el promedio es menor a 30 minutos"
      ],
      "metadata": {
        "id": "hWgkz2CMPTUD"
      }
    },
    {
      "cell_type": "code",
      "source": [
        "def evaluar_ejercicio_semanal(minutos_semana):\n",
        "    # Calcular el promedio diario de ejercicio\n",
        "    promedio_diario = np.mean(minutos_semana)\n",
        "\n",
        "    # Determinar el mensaje según el promedio\n",
        "    if promedio_diario > 60:\n",
        "        mensaje = \"Excelente, estás en forma\"\n",
        "    elif 30 <= promedio_diario <= 60:\n",
        "        mensaje = \"Buen trabajo, pero puedes mejorar\"\n",
        "    else:\n",
        "        mensaje = \"Debes hacer más ejercicio\"\n",
        "\n",
        "    return mensaje\n",
        "\n",
        "# Pedir al usuario que ingrese los minutos de ejercicio para cada día de la semana\n",
        "print(\"Ingresa los minutos de ejercicio realizados cada día de la semana (7 días), separados por espacios:\")\n",
        "minutos_semana = [int(x) for x in input().split()]\n",
        "\n",
        "# Verificar que se ingresaron exactamente 7 días\n",
        "if len(minutos_semana) != 7:\n",
        "    print(\"Debes ingresar exactamente 7 valores (uno por cada día de la semana).\")\n",
        "else:\n",
        "    # Evaluar el ejercicio semanal\n",
        "    resultado = evaluar_ejercicio_semanal(minutos_semana)\n",
        "    print(resultado)d"
      ],
      "metadata": {
        "id": "Qxvbqc7pPdj6"
      },
      "execution_count": null,
      "outputs": []
    }
  ]
}